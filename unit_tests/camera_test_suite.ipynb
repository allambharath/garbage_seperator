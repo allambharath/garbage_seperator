{
 "cells": [
  {
   "cell_type": "code",
   "execution_count": 2,
   "id": "cecd7e3d",
   "metadata": {},
   "outputs": [],
   "source": [
    "import unittest\n",
    "import os"
   ]
  },
  {
   "cell_type": "code",
   "execution_count": 28,
   "id": "87655eed",
   "metadata": {},
   "outputs": [
    {
     "name": "stderr",
     "output_type": "stream",
     "text": [
      "/home/cs5500-2/.conda/envs/jupyter-py3.6/lib/python3.6/site-packages/ipykernel_launcher.py:15: ResourceWarning: unclosed file <_io.TextIOWrapper name=44 encoding='UTF-8'>\n",
      "  from ipykernel import kernelapp as app\n",
      "/home/cs5500-2/.conda/envs/jupyter-py3.6/lib/python3.6/subprocess.py:786: ResourceWarning: subprocess 27774 is still running\n",
      "  ResourceWarning, source=self)\n",
      "."
     ]
    },
    {
     "name": "stdout",
     "output_type": "stream",
     "text": [
      "Expected: video0 ||| Actual: video0\n"
     ]
    },
    {
     "name": "stderr",
     "output_type": "stream",
     "text": [
      "\n",
      "----------------------------------------------------------------------\n",
      "Ran 1 test in 0.019s\n",
      "\n",
      "OK\n"
     ]
    }
   ],
   "source": [
    "class Test_Camera(unittest.TestCase):\n",
    "    # setup camera possibly activate?\n",
    "    def setUp(self):\n",
    "        pass\n",
    "        # TODO\n",
    "    \n",
    "    # tear down camera possibly deactivate?\n",
    "    def tearDown(self):\n",
    "        pass\n",
    "        # TODO\n",
    "    \n",
    "    \n",
    "    def test_1(self):\n",
    "        cmd_line_camera = os.popen(\"echo ls -ltrh /dev/video*\")\n",
    "        cmd_line_camera = cmd_line_camera.read()\n",
    "        \n",
    "        video_text = cmd_line_camera[-7:-2]\n",
    "        digit_text = cmd_line_camera[-2]\n",
    "        \n",
    "        self.assertTrue(digit_text.isdigit())\n",
    "        self.assertEqual(video_text, \"video\")\n",
    "        print(\"Expected: video{1} ||| Actual: {0}{1}\".format(video_text, digit_text))\n",
    "        \n",
    "        \n",
    "if __name__ == '__main__':\n",
    "    unittest.main(argv=['first-arg-is-ignored'], exit=False)\n"
   ]
  }
 ],
 "metadata": {
  "kernelspec": {
   "display_name": "Python 3",
   "language": "python",
   "name": "python3"
  },
  "language_info": {
   "codemirror_mode": {
    "name": "ipython",
    "version": 3
   },
   "file_extension": ".py",
   "mimetype": "text/x-python",
   "name": "python",
   "nbconvert_exporter": "python",
   "pygments_lexer": "ipython3",
   "version": "3.6.15"
  }
 },
 "nbformat": 4,
 "nbformat_minor": 5
}
