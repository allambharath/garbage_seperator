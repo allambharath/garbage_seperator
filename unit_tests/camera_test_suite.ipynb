{
 "cells": [
  {
   "cell_type": "code",
   "execution_count": 38,
   "id": "7dcb658f",
   "metadata": {},
   "outputs": [],
   "source": [
    "# import libraries \n",
    "import unittest\n",
    "import os\n",
    "import sys\n",
    "import time\n",
    "import subprocess\n",
    "import shutil\n",
    "\n",
    "sys.path.append('../camera')\n",
    "from jetcam.usb_camera import USBCamera\n",
    "from dataset import ImageClassificationDataset"
   ]
  },
  {
   "cell_type": "code",
   "execution_count": 39,
   "id": "68a2cf4e",
   "metadata": {},
   "outputs": [
    {
     "name": "stdout",
     "output_type": "stream",
     "text": [
      "crw-rw----+ 1 root video 81, 0 Apr  7 17:15 /dev/video0\r\n"
     ]
    }
   ],
   "source": [
    "# Check device number\n",
    "!ls -ltrh /dev/video*"
   ]
  },
  {
   "cell_type": "code",
   "execution_count": 40,
   "id": "87655eed",
   "metadata": {},
   "outputs": [
    {
     "name": "stderr",
     "output_type": "stream",
     "text": [
      "/home/cs5500-2/.conda/envs/jupyter-py3.6/lib/python3.6/site-packages/ipykernel_launcher.py:14: ResourceWarning: unclosed file <_io.TextIOWrapper name=44 encoding='UTF-8'>\n",
      "  \n",
      "/home/cs5500-2/.conda/envs/jupyter-py3.6/lib/python3.6/subprocess.py:786: ResourceWarning: subprocess 25414 is still running\n",
      "  ResourceWarning, source=self)\n",
      "."
     ]
    },
    {
     "name": "stdout",
     "output_type": "stream",
     "text": [
      "Expected: video0 ||| Actual: video0\n"
     ]
    },
    {
     "name": "stderr",
     "output_type": "stream",
     "text": [
      "."
     ]
    },
    {
     "name": "stdout",
     "output_type": "stream",
     "text": [
      "<jetcam.usb_camera.USBCamera object at 0x7f3cf442b0> is type <class 'jetcam.usb_camera.USBCamera'>\n"
     ]
    },
    {
     "name": "stderr",
     "output_type": "stream",
     "text": [
      ".\n",
      "----------------------------------------------------------------------\n",
      "Ran 3 tests in 1.837s\n",
      "\n",
      "OK\n"
     ]
    }
   ],
   "source": [
    "class Test_Camera_Unit_Test(unittest.TestCase):   \n",
    "    def setUp(self):\n",
    "        # init camera\n",
    "        self.camera = USBCamera(width=224, height=224, capture_device=0) # confirm the capture_device number\n",
    "        self.camera.read()\n",
    "    \n",
    "    def tearDown(self):\n",
    "        # turn off camera\n",
    "        self.camera.cap.release()\n",
    "        \n",
    "    def test_camera_connected_to_usb(self):\n",
    "        # check for device number in terminal\n",
    "        cmd_line_camera = os.popen(\"echo ls -ltrh /dev/video*\")\n",
    "        cmd_line_camera = cmd_line_camera.read()\n",
    "        \n",
    "        # get the str command return\n",
    "        video_text = cmd_line_camera[-7:-2]\n",
    "        digit_text = cmd_line_camera[-2]\n",
    "        \n",
    "        # assert the terminal command returns a device connected\n",
    "        self.assertTrue(digit_text.isdigit())\n",
    "        self.assertEqual(video_text, \"video\")\n",
    "        print(\"Expected: video{1} ||| Actual: {0}{1}\".format(video_text, digit_text))\n",
    "    \n",
    "    def test_camera_initialized(self):\n",
    "        # assert that the instance of USBCamera is USBCamera type\n",
    "        self.assertIsInstance(self.camera, USBCamera)\n",
    "        print(self.camera, \"is type\", type(self.camera))\n",
    "  \n",
    "    def test_save_file(self):\n",
    "        # init a ImageClassificationDataset\n",
    "        test = ImageClassificationDataset(\"../data/camera_pictures/unittest\", [\"unittest\"])\n",
    "        # save a picture in /unittest/unittest/unittest_0.jpg\n",
    "        test.save_entry(self.camera.value, \"unittest\", \"unittest_0\")\n",
    "        \n",
    "        # get the file path directory and add the stored location\n",
    "        file_path = os.getcwd()[:-10]\n",
    "        file_path += \"data/camera_pictures/unittest/unittest/unittest_0.jpg\"\n",
    "        \n",
    "        # assert a file is in the given file path\n",
    "        self.assertTrue(os.path.isfile(file_path))\n",
    "        \n",
    "        # delete the test directory\n",
    "        index = file_path.find(\"unittest\")\n",
    "        remove_dir = file_path[:index] + \"unittest\"\n",
    "        shutil.rmtree(remove_dir)\n",
    "        \n",
    "if __name__ == '__main__':\n",
    "    unittest.main(argv=['first-arg-is-ignored'], exit=False)\n",
    "    "
   ]
  },
  {
   "cell_type": "code",
   "execution_count": null,
   "id": "40a39d50",
   "metadata": {},
   "outputs": [],
   "source": []
  }
 ],
 "metadata": {
  "kernelspec": {
   "display_name": "Python 3",
   "language": "python",
   "name": "python3"
  },
  "language_info": {
   "codemirror_mode": {
    "name": "ipython",
    "version": 3
   },
   "file_extension": ".py",
   "mimetype": "text/x-python",
   "name": "python",
   "nbconvert_exporter": "python",
   "pygments_lexer": "ipython3",
   "version": "3.6.15"
  }
 },
 "nbformat": 4,
 "nbformat_minor": 5
}
